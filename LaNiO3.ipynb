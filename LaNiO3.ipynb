{
 "cells": [
  {
   "cell_type": "code",
   "execution_count": 3,
   "metadata": {},
   "outputs": [
    {
     "data": {
      "text/plain": [
       "<Popen: returncode: None args: ['c:\\\\Users\\\\coolp\\\\OneDrive\\\\Desktop\\\\Projec...>"
      ]
     },
     "execution_count": 3,
     "metadata": {},
     "output_type": "execute_result"
    }
   ],
   "source": [
    "from ase.io import read\n",
    "from ase.visualize import view\n",
    "import numpy as np\n",
    "\n",
    "# Read the molecule from an XYZ file\n",
    "atoms = read('LaNiO3_General.xyz')\n",
    "\n",
    "# Find the minimum and maximum coordinates of all atoms\n",
    "min_coords = np.min(atoms.positions, axis=0)\n",
    "max_coords = np.max(atoms.positions, axis=0)\n",
    "\n",
    "# Calculate the dimensions of the molecule\n",
    "mol_size_x = max_coords[0] - min_coords[0]\n",
    "mol_size_y = max_coords[1] - min_coords[1]\n",
    "mol_size_z = max_coords[2] - min_coords[2]\n",
    "\n",
    "# Rotate the atoms by 45 degrees around the x-axis\n",
    "theta_x = np.pi / 4  # 45 degrees in radians\n",
    "rotation_matrix_x = np.array([[1, 0, 0],\n",
    "                               [0, np.cos(theta_x), -np.sin(theta_x)],\n",
    "                               [0, np.sin(theta_x), np.cos(theta_x)]])\n",
    "atoms.positions = np.dot(atoms.positions, rotation_matrix_x.T)\n",
    "\n",
    "# Rotate the atoms by 90 degrees around the y-axis\n",
    "theta_y = -np.pi / 2  # 90 degrees in radians\n",
    "rotation_matrix_y = np.array([[np.cos(theta_y), 0, np.sin(theta_y)],\n",
    "                               [0, 1, 0],\n",
    "                               [-np.sin(theta_y), 0, np.cos(theta_y)]])\n",
    "atoms.positions = np.dot(atoms.positions, rotation_matrix_y.T)\n",
    "\n",
    "# Rotate the atoms by 90 degrees around the z-axis\n",
    "theta_z = np.pi / 2  # 90 degrees in radians\n",
    "rotation_matrix_z = np.array([[np.cos(theta_z), -np.sin(theta_z), 0],\n",
    "                               [np.sin(theta_z), np.cos(theta_z), 0],\n",
    "                               [0, 0, 1]])\n",
    "atoms.positions = np.dot(atoms.positions, rotation_matrix_z.T)\n",
    "\n",
    "# Update the minimum and maximum coordinates after rotation\n",
    "min_coords = np.min(atoms.positions, axis=0)\n",
    "max_coords = np.max(atoms.positions, axis=0)\n",
    "\n",
    "# Calculate the dimensions of the vacuum box to fully enclose the rotated molecule\n",
    "vacuum_size_x = max_coords[0] - min_coords[0]\n",
    "vacuum_size_y = max_coords[1] - min_coords[1]\n",
    "vacuum_size_z = max_coords[2] - min_coords[2]\n",
    "\n",
    "# Shift the atoms to position the center of the vacuum box at one of the corners of the molecule\n",
    "center_x_rotated = min_coords[0]\n",
    "center_y_rotated = min_coords[1]\n",
    "center_z_rotated = min_coords[2]\n",
    "atoms.positions -= [center_x_rotated, center_y_rotated, center_z_rotated]\n",
    "\n",
    "# Set the cell parameters of the vacuum box\n",
    "atoms.set_cell([vacuum_size_x, vacuum_size_y, vacuum_size_z])\n",
    "\n",
    "# Visualize the rotated molecule in the vacuum box\n",
    "view(atoms)\n"
   ]
  },
  {
   "cell_type": "code",
   "execution_count": 33,
   "metadata": {},
   "outputs": [
    {
     "data": {
      "text/plain": [
       "<Popen: returncode: None args: ['c:\\\\Users\\\\coolp\\\\OneDrive\\\\Desktop\\\\Projec...>"
      ]
     },
     "execution_count": 33,
     "metadata": {},
     "output_type": "execute_result"
    }
   ],
   "source": [
    "#making huge sample to delete from\n",
    "from ase.io import read, write\n",
    "from ase.build import make_supercell\n",
    "from ase.visualize import view\n",
    "\n",
    "# Read the original structure from an XYZ file\n",
    "atoms = read('LaNiO3.xyz')\n",
    "\n",
    "# Create a supercell with a 2x2x2 repetition\n",
    "supercell_atoms = make_supercell(atoms, [[2, 0, 0], [0, 2, 0], [0, 0, 3]])\n",
    "\n",
    "# Save the supercell to an XYZ file\n",
    "write('supercell_structure.xyz', supercell_atoms)\n",
    "\n",
    "# Visualize the supercell\n",
    "view(supercell_atoms)\n"
   ]
  },
  {
   "cell_type": "code",
   "execution_count": 4,
   "metadata": {},
   "outputs": [
    {
     "data": {
      "text/plain": [
       "<Popen: returncode: None args: ['c:\\\\Users\\\\coolp\\\\OneDrive\\\\Desktop\\\\Projec...>"
      ]
     },
     "execution_count": 4,
     "metadata": {},
     "output_type": "execute_result"
    }
   ],
   "source": [
    "#showing general module used to make a and b sides\n",
    "from ase.io import read, write\n",
    "from ase.visualize import view\n",
    "atoms = read('Module.xyz')\n",
    "view(atoms)"
   ]
  },
  {
   "cell_type": "code",
   "execution_count": 2,
   "metadata": {},
   "outputs": [
    {
     "data": {
      "text/plain": [
       "<Popen: returncode: None args: ['c:\\\\Users\\\\coolp\\\\OneDrive\\\\Desktop\\\\Projec...>"
      ]
     },
     "execution_count": 2,
     "metadata": {},
     "output_type": "execute_result"
    }
   ],
   "source": [
    "#showing A side\n",
    "from ase.io import read, write\n",
    "from ase.visualize import view\n",
    "atoms = read('A-side.xyz')\n",
    "view(atoms)"
   ]
  },
  {
   "cell_type": "code",
   "execution_count": 43,
   "metadata": {},
   "outputs": [
    {
     "data": {
      "text/plain": [
       "<Popen: returncode: None args: ['c:\\\\Users\\\\coolp\\\\OneDrive\\\\Desktop\\\\Projec...>"
      ]
     },
     "execution_count": 43,
     "metadata": {},
     "output_type": "execute_result"
    }
   ],
   "source": [
    "#showing B side\n",
    "from ase.io import read, write\n",
    "from ase.visualize import view\n",
    "atoms = read('B-side.xyz')\n",
    "view(atoms)"
   ]
  }
 ],
 "metadata": {
  "kernelspec": {
   "display_name": ".venv",
   "language": "python",
   "name": "python3"
  },
  "language_info": {
   "codemirror_mode": {
    "name": "ipython",
    "version": 3
   },
   "file_extension": ".py",
   "mimetype": "text/x-python",
   "name": "python",
   "nbconvert_exporter": "python",
   "pygments_lexer": "ipython3",
   "version": "3.12.3"
  }
 },
 "nbformat": 4,
 "nbformat_minor": 2
}
